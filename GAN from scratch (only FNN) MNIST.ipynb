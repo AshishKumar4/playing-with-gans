{
  "nbformat": 4,
  "nbformat_minor": 0,
  "metadata": {
    "accelerator": "TPU",
    "colab": {
      "provenance": []
    },
    "kernelspec": {
      "display_name": "Python 3",
      "language": "python",
      "name": "python3"
    },
    "language_info": {
      "codemirror_mode": {
        "name": "ipython",
        "version": 3
      },
      "file_extension": ".py",
      "mimetype": "text/x-python",
      "name": "python",
      "nbconvert_exporter": "python",
      "pygments_lexer": "ipython3",
      "version": "3.7.5"
    }
  },
  "cells": [
    {
      "cell_type": "code",
      "metadata": {
        "id": "mpM5W3zhRd5P"
      },
      "source": [
        "import numpy as np\n",
        "import math\n",
        "import sklearn # Only for downloading MNIST Dataset and Accuracy Metrics\n",
        "import sklearn.metrics\n",
        "from keras.utils import to_categorical  # Only for categorical one hot encoding\n",
        "import random "
      ],
      "execution_count": null,
      "outputs": []
    },
    {
      "cell_type": "code",
      "metadata": {
        "id": "nqCpHBK098sD"
      },
      "source": [
        "antiCategorical = lambda x: [np.argmax(i) for i in x]\n",
        "linear = lambda x : x"
      ],
      "execution_count": null,
      "outputs": []
    },
    {
      "cell_type": "code",
      "metadata": {
        "id": "ntyQlvFjmwa4"
      },
      "source": [
        "import matplotlib.pyplot as plt\n",
        "import tensorflow as tf"
      ],
      "execution_count": null,
      "outputs": []
    },
    {
      "cell_type": "code",
      "metadata": {
        "id": "b29bDuf4Rh0h"
      },
      "source": [
        "sigmoid = lambda x: 1/(1+math.e**-x)\n",
        "# softmax = lambda x: math.e**x/(np.sum(math.e**x, axis=-1))\n",
        "softmax = lambda x : tf.nn.softmax(x).numpy()\n",
        "\n",
        "class Activation():\n",
        "  def __init__(self):\n",
        "    pass\n",
        "  def __call__(self, x):\n",
        "    pass\n",
        "  def derivative(self, x):\n",
        "    pass\n",
        "\n",
        "class Sigmoid(Activation):\n",
        "  def __call__(self, x):\n",
        "    return sigmoid(x)\n",
        "  def derivative(self, x):\n",
        "    return sigmoid(x)*(1-sigmoid(x))\n",
        "\n",
        "class Linear(Activation):\n",
        "  def __call__(self, x):\n",
        "    return x\n",
        "  def derivative(self, x):\n",
        "    return 1\n",
        "\n",
        "class Relu(Activation):\n",
        "  def __call__(self, x):\n",
        "    return (x+(np.abs(x)))/2\n",
        "  def derivative(self, x):\n",
        "    return (np.sign(x)+1) / 2\n",
        "\n",
        "class Tanh(Activation):\n",
        "  def __call__(self, x):\n",
        "    return np.tanh(x)\n",
        "  def derivative(self, x):\n",
        "    return np.nan_to_num(1-np.tanh(x)**2)\n",
        "\n",
        "class LeakyRelu(Activation):\n",
        "  def __call__(self, x):\n",
        "    return tf.nn.leaky_relu(x , 0.01).numpy()\n",
        "  def derivative(self, x):\n",
        "    return (np.sign(x)+1) / 2\n",
        "\n",
        "class SoftPlus(Activation):\n",
        "  def __call__(self, x):\n",
        "    return np.log(1 + np.exp(x))\n",
        "  def derivative(self, x):\n",
        "    return sigmoid(x)\n",
        "\n",
        "class Softmax(Activation):\n",
        "  def __call__(self, x):\n",
        "    return softmax(x)\n",
        "  def derivative(self, x):\n",
        "    return 1\n",
        "\n",
        "class Loss():\n",
        "  def __call__(self, actual, pred):\n",
        "    pass\n",
        "  def derivative(self, actual, pred):\n",
        "    pass\n",
        "\n",
        "class MeanSquaredError(Loss):\n",
        "  def __call__(self, actual, pred):\n",
        "    return (0.5 * (pred - actual)) ** 2\n",
        "  def derivative(self, actual, pred):\n",
        "    return (pred - actual) \n",
        "\n",
        "class MeanAbsoluteError(Loss):\n",
        "  def __call__(self, actual, pred):\n",
        "    return (pred - actual)\n",
        "  def derivative(self, actual, pred):\n",
        "    return np.sign(self(actual, pred))\n",
        "\n",
        "class SoftmaxCrossEntropy(Loss):\n",
        "  def __call__(self, actual, pred):\n",
        "    pred = softmax(pred)\n",
        "    return np.nan_to_num(-actual * np.log(pred) - (1-pred) * np.log(1-actual))\n",
        "  def derivative(self, actual, pred):\n",
        "    pred = softmax(pred)\n",
        "    return np.nan_to_num(pred - actual)\n",
        "\n",
        "class Layer:\n",
        "  def __init__(self):\n",
        "    return None\n",
        "  def forwardProp(self):\n",
        "    return None\n",
        "  def updateParams(self, learning_rate):\n",
        "    return None\n",
        "  def backProp(self):\n",
        "    return None\n",
        "  def reverseProp(self):\n",
        "    return None\n",
        "\n",
        "global idd\n",
        "idd = 0\n",
        "class Dense(Layer):\n",
        "  def __init__(self, size, last_layer, activation=Relu):\n",
        "    global idd\n",
        "    self.id = idd\n",
        "    idd += 1\n",
        "    #print(self.id)\n",
        "    self.size = size\n",
        "    self.activation = activation\n",
        "    self.weights = np.random.normal(0, scale=(1/float(math.sqrt(last_layer.size))), size=(last_layer.size, size)).astype(np.float64)\n",
        "    self.outputs = None#np.zeros(size)\n",
        "    self.errors = None#np.zeros(size)\n",
        "    self.sums = None#np.zeros(size)\n",
        "    self.last_layer = last_layer\n",
        "    self.last_layer.next_layer = self\n",
        "  def forwardProp(self):\n",
        "    self.sums = np.dot(self.last_layer.forwardProp(), self.weights)\n",
        "    self.outputs = self.activation(self.sums)\n",
        "    return self.outputs\n",
        "  def backProp(self, errors):\n",
        "    # backErrors = np.dot(errors, self.weights.T) * self.last_layer.activation.derivative(self.last_layer.sums)\n",
        "    # self.errors = errors \n",
        "    # return self.last_layer.backProp(backErrors)\n",
        "    self.errors = errors * self.activation.derivative(self.sums)\n",
        "    backErrors = np.dot(self.errors, self.weights.T)\n",
        "    return self.last_layer.backProp(backErrors)\n",
        "  def reverseProp(self, errors):\n",
        "    # print('reversing')\n",
        "    inv_weight = np.linalg.pinv(self.weights)\n",
        "    backErrors = np.nan_to_num(np.dot(inverse_functions[self.activation](errors), inv_weight.T))\n",
        "    return self.last_layer.reverseProp(backErrors)\n",
        "  def updateParams(self, learning_rate):\n",
        "    # Firstly update params of last layer\n",
        "    if self.errors is None:\n",
        "      return\n",
        "    self.last_layer.updateParams(learning_rate)\n",
        "    # delta = self.errors.reshape(-1, 1)*self.last_layer.outputs\n",
        "    delta = np.dot(self.last_layer.outputs.T, self.errors) #/ len(self.errors)\n",
        "    # print(delta.shape)\n",
        "    self.weights -= learning_rate*delta\n",
        "    # self.sums = None\n",
        "    # self.errors = None\n",
        "  def resetAll(self):\n",
        "    self.last_layer.resetAll()\n",
        "    self.sums = None\n",
        "    self.errors = None\n",
        "    self.outputs = None\n",
        "    return None\n",
        "\n",
        "class Input(Layer):\n",
        "  def __init__(self, size, activation=Linear):\n",
        "    global idd\n",
        "    self.id = idd\n",
        "    idd += 1\n",
        "    self.size = size\n",
        "    self.activation = activation\n",
        "    self.outputs = np.zeros(size).astype(np.float64)\n",
        "    self.sums = np.zeros(size).astype(np.float64)\n",
        "    self.errors = None\n",
        "  def forwardProp(self):\n",
        "    #print(\"Input \", self.id)\n",
        "    self.outputs = self.activation(self.sums)\n",
        "    return self.outputs\n",
        "  def backProp(self, errors):\n",
        "    self.errors = errors * self.activation.derivative(self.sums)\n",
        "    return self.errors\n",
        "  def reverseProp(self, errors):\n",
        "    return errors\n",
        "  def updateParams(self, lr):\n",
        "    return None\n",
        "  def resetAll(self):\n",
        "    self.sums = None\n",
        "    self.outputs = None\n",
        "    return None\n",
        "    \n",
        "class NeuralNet:\n",
        "  def __init__(self,  inputs, outputs, learning_rate = 0.01, loss='crossentropy', gamma=1, delta=2):\n",
        "    global idd\n",
        "    idd = 0\n",
        "    self.learning_rate = learning_rate\n",
        "    self.Input = inputs\n",
        "    self.Output = outputs\n",
        "    self.loss = loss\n",
        "    self.gamma = gamma\n",
        "    self.delta = delta\n",
        "  def forward(self, inputs):\n",
        "    self.Input.sums = inputs\n",
        "    return self.Output.forwardProp()\n",
        "  def backward(self, errors):\n",
        "    #self.Output.errors = errors\n",
        "    return self.Output.backProp(errors) #* self.Output.activation.derivative(self.Output.Sum)\n",
        "  def reverse(self, errors):\n",
        "    #self.Output.errors = errors\n",
        "    return self.Output.reverseProp(errors)\n",
        "  def updateParams(self):\n",
        "    self.Output.updateParams(self.learning_rate)\n",
        "  \n",
        "  def fit(self, X, Y, epoch=10, batch_size=10, verbose=True, validation_set = None, accuracy_metric=antiCategorical):\n",
        "    X = X.reshape(tuple([-1, batch_size] + list(X.shape[1:])))\n",
        "    Y = Y.reshape(tuple([-1, batch_size] + list(Y.shape[1:])))\n",
        "    print(X.shape, Y.shape)\n",
        "    iters = X.shape[0]\n",
        "    for j in range(epoch):\n",
        "      TotalLoss = 0\n",
        "      for i in range(0, iters):\n",
        "        self.resetAll()\n",
        "        # print(X[i].shape)\n",
        "        pred = self.forward(X[i].astype(np.float64))\n",
        "        # print(pred)\n",
        "        loss = self.loss.derivative(Y[i].astype(np.float64), pred.astype(np.float64))\n",
        "        TotalLoss += sum(abs(k) for k in loss)\n",
        "        self.backward(loss)\n",
        "        self.updateParams()\n",
        "      if verbose:\n",
        "        print(\"Epoch\",j, \"Loss\", TotalLoss/iters)\n",
        "      self.learning_rate *= self.gamma\n",
        "      self.gamma *= self.delta\n",
        "      if validation_set is not None:\n",
        "        tx, ty = validation_set\n",
        "        pred = self.predict(tx)\n",
        "        loss = self.loss.derivative(ty, pred)\n",
        "        print(\"Validation Score:\", sklearn.metrics.accuracy_score(accuracy_metric(ty), accuracy_metric(pred))*100, \"\\tLoss:\", np.sum([sum(abs(k) for k in ll) for ll in loss])/len(ty))\n",
        "    return None\n",
        "  \n",
        "  def reversePredict(self, Y):\n",
        "    iters = Y.shape[0]\n",
        "    X = list()\n",
        "    for i in range(iters):\n",
        "      self.resetAll()\n",
        "      pred = self.reverse(Y[i].astype(np.float64))\n",
        "      #print(i, pred)\n",
        "      X.append(pred)\n",
        "    return np.array(X)\n",
        "\n",
        "  def resetAll(self):\n",
        "    self.Output.resetAll()\n",
        "  \n",
        "  def __call__(self, X):\n",
        "    return self.predict(X)\n",
        "\n",
        "  def predict(self, X):\n",
        "    pred = self.forward(X.astype(np.float64))\n",
        "    # self.resetAll()\n",
        "    return pred\n",
        "  def getLoss(self, pred, exp):\n",
        "    return np.nan_to_num(loss_derivatives[self.loss][self.Output.activation](exp, pred))"
      ],
      "execution_count": null,
      "outputs": []
    },
    {
      "cell_type": "code",
      "metadata": {
        "id": "xL-NyTPa9wdn",
        "colab": {
          "base_uri": "https://localhost:8080/",
          "height": 68
        },
        "outputId": "c03eccf6-7861-40b7-dbc1-7eba95d4661c"
      },
      "source": [
        "(x_train, y_train), (x_test, y_test) = tf.keras.datasets.mnist.load_data()\n",
        "\n",
        "# (x_train, y_train), (x_test, y_test) = tf.keras.datasets.fashion_mnist.load_data()\n",
        "cy_train = np.array(to_categorical(y_train))\n",
        "cy_test = np.array(to_categorical(y_test))\n",
        "\n",
        "cx_train, cx_test = np.array(x_train.reshape(-1, 784)/255.), np.array(x_test.reshape(-1, 784)/255.)\n",
        "cx_train.shape"
      ],
      "execution_count": null,
      "outputs": [
        {
          "output_type": "stream",
          "text": [
            "Downloading data from https://storage.googleapis.com/tensorflow/tf-keras-datasets/mnist.npz\n",
            "11493376/11490434 [==============================] - 0s 0us/step\n"
          ],
          "name": "stdout"
        },
        {
          "output_type": "execute_result",
          "data": {
            "text/plain": [
              "(60000, 784)"
            ]
          },
          "metadata": {
            "tags": []
          },
          "execution_count": 5
        }
      ]
    },
    {
      "cell_type": "code",
      "metadata": {
        "id": "s03Iqgz7mgrP",
        "colab": {
          "base_uri": "https://localhost:8080/",
          "height": 443
        },
        "outputId": "ebd160b2-715b-4010-c4fb-cfa1066e4d93"
      },
      "source": [
        "inputs = Input(784, LeakyRelu())\n",
        "x = Dense(100, inputs, LeakyRelu())\n",
        "x = Dense(50, x, LeakyRelu())\n",
        "outputs = Dense(10, x, Sigmoid())\n",
        "\n",
        "test = NeuralNet(inputs, outputs, learning_rate = 0.01, loss=MeanSquaredError(), delta=0.95, gamma=1)\n",
        "test.fit(cx_train, cy_train, batch_size=10, epoch=10, validation_set=(cx_test, cy_test))"
      ],
      "execution_count": null,
      "outputs": [
        {
          "output_type": "stream",
          "text": [
            "(6000, 10, 784) (6000, 10, 10)\n",
            "Epoch 0 Loss [0.29885372 0.27878255 0.48453318 0.52854733 0.45663818 0.62933699\n",
            " 0.34273777 0.4080386  0.66757507 0.62004788]\n",
            "Validation Score: 93.82000000000001 \tLoss: 0.24172382635601053\n"
          ],
          "name": "stdout"
        },
        {
          "output_type": "error",
          "ename": "KeyboardInterrupt",
          "evalue": "ignored",
          "traceback": [
            "\u001b[0;31m---------------------------------------------------------------------------\u001b[0m",
            "\u001b[0;31mKeyboardInterrupt\u001b[0m                         Traceback (most recent call last)",
            "\u001b[0;32m<ipython-input-15-f2f934607e51>\u001b[0m in \u001b[0;36m<module>\u001b[0;34m()\u001b[0m\n\u001b[1;32m      5\u001b[0m \u001b[0;34m\u001b[0m\u001b[0m\n\u001b[1;32m      6\u001b[0m \u001b[0mtest\u001b[0m \u001b[0;34m=\u001b[0m \u001b[0mNeuralNet\u001b[0m\u001b[0;34m(\u001b[0m\u001b[0minputs\u001b[0m\u001b[0;34m,\u001b[0m \u001b[0moutputs\u001b[0m\u001b[0;34m,\u001b[0m \u001b[0mlearning_rate\u001b[0m \u001b[0;34m=\u001b[0m \u001b[0;36m0.01\u001b[0m\u001b[0;34m,\u001b[0m \u001b[0mloss\u001b[0m\u001b[0;34m=\u001b[0m\u001b[0mMeanSquaredError\u001b[0m\u001b[0;34m(\u001b[0m\u001b[0;34m)\u001b[0m\u001b[0;34m,\u001b[0m \u001b[0mdelta\u001b[0m\u001b[0;34m=\u001b[0m\u001b[0;36m0.95\u001b[0m\u001b[0;34m,\u001b[0m \u001b[0mgamma\u001b[0m\u001b[0;34m=\u001b[0m\u001b[0;36m1\u001b[0m\u001b[0;34m)\u001b[0m\u001b[0;34m\u001b[0m\u001b[0;34m\u001b[0m\u001b[0m\n\u001b[0;32m----> 7\u001b[0;31m \u001b[0mtest\u001b[0m\u001b[0;34m.\u001b[0m\u001b[0mfit\u001b[0m\u001b[0;34m(\u001b[0m\u001b[0mcx_train\u001b[0m\u001b[0;34m,\u001b[0m \u001b[0mcy_train\u001b[0m\u001b[0;34m,\u001b[0m \u001b[0mbatch_size\u001b[0m\u001b[0;34m=\u001b[0m\u001b[0;36m10\u001b[0m\u001b[0;34m,\u001b[0m \u001b[0mepoch\u001b[0m\u001b[0;34m=\u001b[0m\u001b[0;36m10\u001b[0m\u001b[0;34m,\u001b[0m \u001b[0mvalidation_set\u001b[0m\u001b[0;34m=\u001b[0m\u001b[0;34m(\u001b[0m\u001b[0mcx_test\u001b[0m\u001b[0;34m,\u001b[0m \u001b[0mcy_test\u001b[0m\u001b[0;34m)\u001b[0m\u001b[0;34m)\u001b[0m\u001b[0;34m\u001b[0m\u001b[0;34m\u001b[0m\u001b[0m\n\u001b[0m",
            "\u001b[0;32m<ipython-input-4-2f68ac68bc04>\u001b[0m in \u001b[0;36mfit\u001b[0;34m(self, X, Y, epoch, batch_size, verbose, validation_set, accuracy_metric)\u001b[0m\n\u001b[1;32m    247\u001b[0m         \u001b[0mself\u001b[0m\u001b[0;34m.\u001b[0m\u001b[0mresetAll\u001b[0m\u001b[0;34m(\u001b[0m\u001b[0;34m)\u001b[0m\u001b[0;34m\u001b[0m\u001b[0;34m\u001b[0m\u001b[0m\n\u001b[1;32m    248\u001b[0m         \u001b[0;31m# print(X[i].shape)\u001b[0m\u001b[0;34m\u001b[0m\u001b[0;34m\u001b[0m\u001b[0;34m\u001b[0m\u001b[0m\n\u001b[0;32m--> 249\u001b[0;31m         \u001b[0mpred\u001b[0m \u001b[0;34m=\u001b[0m \u001b[0mself\u001b[0m\u001b[0;34m.\u001b[0m\u001b[0mforward\u001b[0m\u001b[0;34m(\u001b[0m\u001b[0mX\u001b[0m\u001b[0;34m[\u001b[0m\u001b[0mi\u001b[0m\u001b[0;34m]\u001b[0m\u001b[0;34m.\u001b[0m\u001b[0mastype\u001b[0m\u001b[0;34m(\u001b[0m\u001b[0mnp\u001b[0m\u001b[0;34m.\u001b[0m\u001b[0mfloat64\u001b[0m\u001b[0;34m)\u001b[0m\u001b[0;34m)\u001b[0m\u001b[0;34m\u001b[0m\u001b[0;34m\u001b[0m\u001b[0m\n\u001b[0m\u001b[1;32m    250\u001b[0m         \u001b[0;31m# print(pred)\u001b[0m\u001b[0;34m\u001b[0m\u001b[0;34m\u001b[0m\u001b[0;34m\u001b[0m\u001b[0m\n\u001b[1;32m    251\u001b[0m         \u001b[0mloss\u001b[0m \u001b[0;34m=\u001b[0m \u001b[0mself\u001b[0m\u001b[0;34m.\u001b[0m\u001b[0mloss\u001b[0m\u001b[0;34m.\u001b[0m\u001b[0mderivative\u001b[0m\u001b[0;34m(\u001b[0m\u001b[0mY\u001b[0m\u001b[0;34m[\u001b[0m\u001b[0mi\u001b[0m\u001b[0;34m]\u001b[0m\u001b[0;34m.\u001b[0m\u001b[0mastype\u001b[0m\u001b[0;34m(\u001b[0m\u001b[0mnp\u001b[0m\u001b[0;34m.\u001b[0m\u001b[0mfloat64\u001b[0m\u001b[0;34m)\u001b[0m\u001b[0;34m,\u001b[0m \u001b[0mpred\u001b[0m\u001b[0;34m.\u001b[0m\u001b[0mastype\u001b[0m\u001b[0;34m(\u001b[0m\u001b[0mnp\u001b[0m\u001b[0;34m.\u001b[0m\u001b[0mfloat64\u001b[0m\u001b[0;34m)\u001b[0m\u001b[0;34m)\u001b[0m\u001b[0;34m\u001b[0m\u001b[0;34m\u001b[0m\u001b[0m\n",
            "\u001b[0;32m<ipython-input-4-2f68ac68bc04>\u001b[0m in \u001b[0;36mforward\u001b[0;34m(self, inputs)\u001b[0m\n\u001b[1;32m    227\u001b[0m   \u001b[0;32mdef\u001b[0m \u001b[0mforward\u001b[0m\u001b[0;34m(\u001b[0m\u001b[0mself\u001b[0m\u001b[0;34m,\u001b[0m \u001b[0minputs\u001b[0m\u001b[0;34m)\u001b[0m\u001b[0;34m:\u001b[0m\u001b[0;34m\u001b[0m\u001b[0;34m\u001b[0m\u001b[0m\n\u001b[1;32m    228\u001b[0m     \u001b[0mself\u001b[0m\u001b[0;34m.\u001b[0m\u001b[0mInput\u001b[0m\u001b[0;34m.\u001b[0m\u001b[0msums\u001b[0m \u001b[0;34m=\u001b[0m \u001b[0minputs\u001b[0m\u001b[0;34m\u001b[0m\u001b[0;34m\u001b[0m\u001b[0m\n\u001b[0;32m--> 229\u001b[0;31m     \u001b[0;32mreturn\u001b[0m \u001b[0mself\u001b[0m\u001b[0;34m.\u001b[0m\u001b[0mOutput\u001b[0m\u001b[0;34m.\u001b[0m\u001b[0mforwardProp\u001b[0m\u001b[0;34m(\u001b[0m\u001b[0;34m)\u001b[0m\u001b[0;34m\u001b[0m\u001b[0;34m\u001b[0m\u001b[0m\n\u001b[0m\u001b[1;32m    230\u001b[0m   \u001b[0;32mdef\u001b[0m \u001b[0mbackward\u001b[0m\u001b[0;34m(\u001b[0m\u001b[0mself\u001b[0m\u001b[0;34m,\u001b[0m \u001b[0merrors\u001b[0m\u001b[0;34m)\u001b[0m\u001b[0;34m:\u001b[0m\u001b[0;34m\u001b[0m\u001b[0;34m\u001b[0m\u001b[0m\n\u001b[1;32m    231\u001b[0m     \u001b[0;31m#self.Output.errors = errors\u001b[0m\u001b[0;34m\u001b[0m\u001b[0;34m\u001b[0m\u001b[0;34m\u001b[0m\u001b[0m\n",
            "\u001b[0;32m<ipython-input-4-2f68ac68bc04>\u001b[0m in \u001b[0;36mforwardProp\u001b[0;34m(self)\u001b[0m\n\u001b[1;32m    109\u001b[0m     \u001b[0mself\u001b[0m\u001b[0;34m.\u001b[0m\u001b[0mlast_layer\u001b[0m\u001b[0;34m.\u001b[0m\u001b[0mnext_layer\u001b[0m \u001b[0;34m=\u001b[0m \u001b[0mself\u001b[0m\u001b[0;34m\u001b[0m\u001b[0;34m\u001b[0m\u001b[0m\n\u001b[1;32m    110\u001b[0m   \u001b[0;32mdef\u001b[0m \u001b[0mforwardProp\u001b[0m\u001b[0;34m(\u001b[0m\u001b[0mself\u001b[0m\u001b[0;34m)\u001b[0m\u001b[0;34m:\u001b[0m\u001b[0;34m\u001b[0m\u001b[0;34m\u001b[0m\u001b[0m\n\u001b[0;32m--> 111\u001b[0;31m     \u001b[0mself\u001b[0m\u001b[0;34m.\u001b[0m\u001b[0msums\u001b[0m \u001b[0;34m=\u001b[0m \u001b[0mnp\u001b[0m\u001b[0;34m.\u001b[0m\u001b[0mdot\u001b[0m\u001b[0;34m(\u001b[0m\u001b[0mself\u001b[0m\u001b[0;34m.\u001b[0m\u001b[0mlast_layer\u001b[0m\u001b[0;34m.\u001b[0m\u001b[0mforwardProp\u001b[0m\u001b[0;34m(\u001b[0m\u001b[0;34m)\u001b[0m\u001b[0;34m,\u001b[0m \u001b[0mself\u001b[0m\u001b[0;34m.\u001b[0m\u001b[0mweights\u001b[0m\u001b[0;34m)\u001b[0m\u001b[0;34m\u001b[0m\u001b[0;34m\u001b[0m\u001b[0m\n\u001b[0m\u001b[1;32m    112\u001b[0m     \u001b[0mself\u001b[0m\u001b[0;34m.\u001b[0m\u001b[0moutputs\u001b[0m \u001b[0;34m=\u001b[0m \u001b[0mself\u001b[0m\u001b[0;34m.\u001b[0m\u001b[0mactivation\u001b[0m\u001b[0;34m(\u001b[0m\u001b[0mself\u001b[0m\u001b[0;34m.\u001b[0m\u001b[0msums\u001b[0m\u001b[0;34m)\u001b[0m\u001b[0;34m\u001b[0m\u001b[0;34m\u001b[0m\u001b[0m\n\u001b[1;32m    113\u001b[0m     \u001b[0;32mreturn\u001b[0m \u001b[0mself\u001b[0m\u001b[0;34m.\u001b[0m\u001b[0moutputs\u001b[0m\u001b[0;34m\u001b[0m\u001b[0;34m\u001b[0m\u001b[0m\n",
            "\u001b[0;32m<ipython-input-4-2f68ac68bc04>\u001b[0m in \u001b[0;36mforwardProp\u001b[0;34m(self)\u001b[0m\n\u001b[1;32m    109\u001b[0m     \u001b[0mself\u001b[0m\u001b[0;34m.\u001b[0m\u001b[0mlast_layer\u001b[0m\u001b[0;34m.\u001b[0m\u001b[0mnext_layer\u001b[0m \u001b[0;34m=\u001b[0m \u001b[0mself\u001b[0m\u001b[0;34m\u001b[0m\u001b[0;34m\u001b[0m\u001b[0m\n\u001b[1;32m    110\u001b[0m   \u001b[0;32mdef\u001b[0m \u001b[0mforwardProp\u001b[0m\u001b[0;34m(\u001b[0m\u001b[0mself\u001b[0m\u001b[0;34m)\u001b[0m\u001b[0;34m:\u001b[0m\u001b[0;34m\u001b[0m\u001b[0;34m\u001b[0m\u001b[0m\n\u001b[0;32m--> 111\u001b[0;31m     \u001b[0mself\u001b[0m\u001b[0;34m.\u001b[0m\u001b[0msums\u001b[0m \u001b[0;34m=\u001b[0m \u001b[0mnp\u001b[0m\u001b[0;34m.\u001b[0m\u001b[0mdot\u001b[0m\u001b[0;34m(\u001b[0m\u001b[0mself\u001b[0m\u001b[0;34m.\u001b[0m\u001b[0mlast_layer\u001b[0m\u001b[0;34m.\u001b[0m\u001b[0mforwardProp\u001b[0m\u001b[0;34m(\u001b[0m\u001b[0;34m)\u001b[0m\u001b[0;34m,\u001b[0m \u001b[0mself\u001b[0m\u001b[0;34m.\u001b[0m\u001b[0mweights\u001b[0m\u001b[0;34m)\u001b[0m\u001b[0;34m\u001b[0m\u001b[0;34m\u001b[0m\u001b[0m\n\u001b[0m\u001b[1;32m    112\u001b[0m     \u001b[0mself\u001b[0m\u001b[0;34m.\u001b[0m\u001b[0moutputs\u001b[0m \u001b[0;34m=\u001b[0m \u001b[0mself\u001b[0m\u001b[0;34m.\u001b[0m\u001b[0mactivation\u001b[0m\u001b[0;34m(\u001b[0m\u001b[0mself\u001b[0m\u001b[0;34m.\u001b[0m\u001b[0msums\u001b[0m\u001b[0;34m)\u001b[0m\u001b[0;34m\u001b[0m\u001b[0;34m\u001b[0m\u001b[0m\n\u001b[1;32m    113\u001b[0m     \u001b[0;32mreturn\u001b[0m \u001b[0mself\u001b[0m\u001b[0;34m.\u001b[0m\u001b[0moutputs\u001b[0m\u001b[0;34m\u001b[0m\u001b[0;34m\u001b[0m\u001b[0m\n",
            "\u001b[0;32m<ipython-input-4-2f68ac68bc04>\u001b[0m in \u001b[0;36mforwardProp\u001b[0;34m(self)\u001b[0m\n\u001b[1;32m    109\u001b[0m     \u001b[0mself\u001b[0m\u001b[0;34m.\u001b[0m\u001b[0mlast_layer\u001b[0m\u001b[0;34m.\u001b[0m\u001b[0mnext_layer\u001b[0m \u001b[0;34m=\u001b[0m \u001b[0mself\u001b[0m\u001b[0;34m\u001b[0m\u001b[0;34m\u001b[0m\u001b[0m\n\u001b[1;32m    110\u001b[0m   \u001b[0;32mdef\u001b[0m \u001b[0mforwardProp\u001b[0m\u001b[0;34m(\u001b[0m\u001b[0mself\u001b[0m\u001b[0;34m)\u001b[0m\u001b[0;34m:\u001b[0m\u001b[0;34m\u001b[0m\u001b[0;34m\u001b[0m\u001b[0m\n\u001b[0;32m--> 111\u001b[0;31m     \u001b[0mself\u001b[0m\u001b[0;34m.\u001b[0m\u001b[0msums\u001b[0m \u001b[0;34m=\u001b[0m \u001b[0mnp\u001b[0m\u001b[0;34m.\u001b[0m\u001b[0mdot\u001b[0m\u001b[0;34m(\u001b[0m\u001b[0mself\u001b[0m\u001b[0;34m.\u001b[0m\u001b[0mlast_layer\u001b[0m\u001b[0;34m.\u001b[0m\u001b[0mforwardProp\u001b[0m\u001b[0;34m(\u001b[0m\u001b[0;34m)\u001b[0m\u001b[0;34m,\u001b[0m \u001b[0mself\u001b[0m\u001b[0;34m.\u001b[0m\u001b[0mweights\u001b[0m\u001b[0;34m)\u001b[0m\u001b[0;34m\u001b[0m\u001b[0;34m\u001b[0m\u001b[0m\n\u001b[0m\u001b[1;32m    112\u001b[0m     \u001b[0mself\u001b[0m\u001b[0;34m.\u001b[0m\u001b[0moutputs\u001b[0m \u001b[0;34m=\u001b[0m \u001b[0mself\u001b[0m\u001b[0;34m.\u001b[0m\u001b[0mactivation\u001b[0m\u001b[0;34m(\u001b[0m\u001b[0mself\u001b[0m\u001b[0;34m.\u001b[0m\u001b[0msums\u001b[0m\u001b[0;34m)\u001b[0m\u001b[0;34m\u001b[0m\u001b[0;34m\u001b[0m\u001b[0m\n\u001b[1;32m    113\u001b[0m     \u001b[0;32mreturn\u001b[0m \u001b[0mself\u001b[0m\u001b[0;34m.\u001b[0m\u001b[0moutputs\u001b[0m\u001b[0;34m\u001b[0m\u001b[0;34m\u001b[0m\u001b[0m\n",
            "\u001b[0;32m<__array_function__ internals>\u001b[0m in \u001b[0;36mdot\u001b[0;34m(*args, **kwargs)\u001b[0m\n",
            "\u001b[0;31mKeyboardInterrupt\u001b[0m: "
          ]
        }
      ]
    },
    {
      "cell_type": "markdown",
      "metadata": {
        "id": "VzV0mS1JdTlJ"
      },
      "source": [
        "# GAN -->"
      ]
    },
    {
      "cell_type": "code",
      "metadata": {
        "id": "pfWB3N_AeAuz"
      },
      "source": [
        "def generator():\n",
        "  inputs = Input(100, LeakyRelu())\n",
        "  x = Dense(256, inputs, LeakyRelu())\n",
        "  # x = Dense(512, x, LeakyRelu())\n",
        "  outputs = Dense(784, x, Sigmoid())\n",
        "\n",
        "  model = NeuralNet(inputs, outputs, learning_rate = 0.01, loss=MeanSquaredError(), delta=1, gamma=1)\n",
        "  return model\n",
        "\n",
        "def descriminator():\n",
        "  inputs = Input(784, LeakyRelu())\n",
        "  x = Dense(100, inputs, LeakyRelu())\n",
        "  # x = Dense(50, x, LeakyRelu())\n",
        "  outputs = Dense(1, x, Sigmoid())\n",
        "\n",
        "  model = NeuralNet(inputs, outputs, learning_rate = 0.01, loss=MeanSquaredError(), delta=1, gamma=1)\n",
        "  return model"
      ],
      "execution_count": null,
      "outputs": []
    },
    {
      "cell_type": "code",
      "metadata": {
        "id": "p9-rNml0ey8T"
      },
      "source": [
        "# gen = generator()\n",
        "des = descriminator()"
      ],
      "execution_count": null,
      "outputs": []
    },
    {
      "cell_type": "code",
      "metadata": {
        "id": "oE9uJOUZhYzI",
        "colab": {
          "base_uri": "https://localhost:8080/",
          "height": 34
        },
        "outputId": "7d2623c2-1467-44e0-83d6-b330dbf6f34a"
      },
      "source": [
        "np.random.normal(size=[5, 100]).shape"
      ],
      "execution_count": null,
      "outputs": [
        {
          "output_type": "execute_result",
          "data": {
            "text/plain": [
              "(5, 100)"
            ]
          },
          "metadata": {
            "tags": []
          },
          "execution_count": 93
        }
      ]
    },
    {
      "cell_type": "code",
      "metadata": {
        "id": "qFww7Jpomi9J"
      },
      "source": [
        "def trainGan(realData, epochs=10, batch_size=5, loss=MeanSquaredError()):\n",
        "  realData = realData.reshape(tuple([-1, batch_size] + list(realData.shape[1:])))\n",
        "  print(realData.shape)\n",
        "  for epoch in range(epochs):\n",
        "    for iter in range(len(realData)):\n",
        "      real = realData[iter]\n",
        "\n",
        "      noise = np.random.normal(size=[batch_size, 100])\n",
        "      fake = gen(noise)\n",
        "\n",
        "      genLoss = loss.derivative(real, fake) * 0.1\n",
        "      gen.backward(genLoss)\n",
        "      gen.updateParams()\n",
        "      gen.resetAll()\n",
        "\n",
        "      # noise = np.random.normal(size=[batch_size, 100])\n",
        "      # fake = gen(noise)\n",
        "\n",
        "      X = np.concatenate((fake, real), axis=0)\n",
        "\n",
        "      pred = des(X)\n",
        "      \n",
        "      # print(pred)\n",
        "\n",
        "      fake_output = pred[:batch_size]\n",
        "      real_output = pred[batch_size:]\n",
        "      \n",
        "      fake_desloss = loss.derivative(np.zeros_like(fake_output).astype(np.float64), fake_output.astype(np.float64))\n",
        "      real_desloss = loss.derivative(np.ones_like(real_output).astype(np.float64), real_output.astype(np.float64))\n",
        "      \n",
        "      # print(\"=>\", fake_desloss, real_desloss)\n",
        "\n",
        "      genLoss = loss.derivative(np.ones_like(fake_output).astype(np.float64), fake_output.astype(np.float64)) * 1.5\n",
        "\n",
        "      genLoss = des.backward(np.concatenate((genLoss, genLoss), axis=0))[:batch_size]\n",
        "      gen.backward(genLoss)\n",
        "      gen.updateParams()\n",
        "\n",
        "      desLoss = np.concatenate((fake_desloss, real_desloss), axis=0)\n",
        "      des.backward(desLoss)\n",
        "      des.updateParams()\n",
        "\n",
        "      des.resetAll()\n",
        "      gen.resetAll()\n",
        "      \n",
        "    print(\"Epoch \", epoch, \"Fake=>\", fake_output, \"Real=>\", real_output)\n",
        "    for i in range(len(fake)):\n",
        "      plt.imshow(fake[i].reshape((28,28)))\n",
        "      plt.show()\n",
        "    # print(\"==>\", np.mean(desLoss), np.mean(genLoss))"
      ],
      "execution_count": null,
      "outputs": []
    },
    {
      "cell_type": "code",
      "metadata": {
        "id": "FeWNMIsUwl2I"
      },
      "source": [
        "trainGan(cx_train, epochs=100, batch_size=20)"
      ],
      "execution_count": null,
      "outputs": []
    },
    {
      "cell_type": "code",
      "metadata": {
        "id": "GUh4kLJydVTU"
      },
      "source": [
        "def trainGan(realData, epochs=10, batch_size=5, loss=MeanSquaredError()):\n",
        "  realData = realData.reshape(tuple([-1, batch_size] + list(realData.shape[1:])))\n",
        "  print(realData.shape)\n",
        "  for epoch in range(epochs):\n",
        "    for iter in range(len(realData)):\n",
        "      noise = np.random.normal(size=[batch_size, 100])\n",
        "      fake = gen(noise)\n",
        "      real = realData[iter]\n",
        "      X = np.concatenate((fake, real), axis=0)\n",
        "\n",
        "      pred = des(X)\n",
        "      \n",
        "      # print(pred)\n",
        "\n",
        "      fake_output = pred[:batch_size]\n",
        "      real_output = pred[batch_size:]\n",
        "      \n",
        "      fake_desloss = loss.derivative(np.zeros_like(fake_output).astype(np.float64), fake_output.astype(np.float64))\n",
        "      real_desloss = loss.derivative(np.ones_like(real_output).astype(np.float64), real_output.astype(np.float64))\n",
        "\n",
        "      desLoss = np.concatenate((fake_desloss, real_desloss), axis=0)\n",
        "      # print(desLoss)\n",
        "      des.backward(desLoss)\n",
        "      des.updateParams()\n",
        "\n",
        "      des.resetAll()\n",
        "      \n",
        "      # print(\"=>\", fake_desloss, real_desloss)\n",
        "\n",
        "      fake_output = des(fake)\n",
        "      genLoss = loss.derivative(np.ones_like(fake_output).astype(np.float64), fake_output.astype(np.float64))\n",
        "\n",
        "      genLoss = des.backward(genLoss)\n",
        "      gen.backward(genLoss)\n",
        "      gen.updateParams()\n",
        "\n",
        "      des.resetAll()\n",
        "      gen.resetAll()\n",
        "      \n",
        "    print(\"Epoch \", epoch, \"Fake=>\", fake_output, \"Real=>\", real_output)\n",
        "    for i in range(len(fake)):\n",
        "      plt.imshow(fake[i].reshape((28,28)))\n",
        "      plt.show()\n",
        "    # print(\"==>\", np.mean(desLoss), np.mean(genLoss))"
      ],
      "execution_count": null,
      "outputs": []
    }
  ]
}