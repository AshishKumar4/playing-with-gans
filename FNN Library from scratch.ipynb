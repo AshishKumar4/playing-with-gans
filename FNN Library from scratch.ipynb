{
  "nbformat": 4,
  "nbformat_minor": 0,
  "metadata": {
    "colab": {
      "provenance": []
    },
    "kernelspec": {
      "display_name": "Python 3",
      "language": "python",
      "name": "python3"
    },
    "language_info": {
      "codemirror_mode": {
        "name": "ipython",
        "version": 3
      },
      "file_extension": ".py",
      "mimetype": "text/x-python",
      "name": "python",
      "nbconvert_exporter": "python",
      "pygments_lexer": "ipython3",
      "version": "3.7.5"
    }
  },
  "cells": [
    {
      "cell_type": "code",
      "metadata": {
        "id": "mpM5W3zhRd5P"
      },
      "source": [
        "import numpy as np\n",
        "import math\n",
        "import sklearn # Only for downloading MNIST Dataset and Accuracy Metrics\n",
        "import sklearn.metrics\n",
        "from keras.utils import to_categorical  # Only for categorical one hot encoding\n",
        "import random"
      ],
      "execution_count": null,
      "outputs": []
    },
    {
      "cell_type": "code",
      "metadata": {
        "id": "nqCpHBK098sD"
      },
      "source": [
        "antiCategorical = lambda x: [np.argmax(i) for i in x]\n",
        "linear = lambda x : x"
      ],
      "execution_count": null,
      "outputs": []
    },
    {
      "cell_type": "code",
      "metadata": {
        "id": "ntyQlvFjmwa4"
      },
      "source": [
        "import matplotlib.pyplot as plt\n",
        "import tensorflow as tf"
      ],
      "execution_count": null,
      "outputs": []
    },
    {
      "cell_type": "code",
      "metadata": {
        "id": "b29bDuf4Rh0h"
      },
      "source": [
        "sigmoid = lambda x: 1/(1+math.e**-x)\n",
        "# softmax = lambda x: math.e**x/(np.sum(math.e**x, axis=-1))\n",
        "softmax = lambda x : tf.nn.softmax(x).numpy()\n",
        "\n",
        "class Activation():\n",
        "  def __init__(self):\n",
        "    pass\n",
        "  def __call__(self, x):\n",
        "    pass\n",
        "  def derivative(self, x):\n",
        "    pass\n",
        "\n",
        "class Sigmoid(Activation):\n",
        "  def __call__(self, x):\n",
        "    return sigmoid(x)\n",
        "  def derivative(self, x):\n",
        "    return sigmoid(x)*(1-sigmoid(x))\n",
        "\n",
        "class Linear(Activation):\n",
        "  def __call__(self, x):\n",
        "    return x\n",
        "  def derivative(self, x):\n",
        "    return 1\n",
        "\n",
        "class Relu(Activation):\n",
        "  def __call__(self, x):\n",
        "    return (x+(np.abs(x)))/2\n",
        "  def derivative(self, x):\n",
        "    return (np.sign(x)+1) / 2\n",
        "\n",
        "class Tanh(Activation):\n",
        "  def __call__(self, x):\n",
        "    return np.tanh(x)\n",
        "  def derivative(self, x):\n",
        "    return np.nan_to_num(1-np.tanh(x)**2)\n",
        "\n",
        "class LeakyRelu(Activation):\n",
        "  def __call__(self, x):\n",
        "    return tf.nn.leaky_relu(x , 0.01).numpy()\n",
        "  def derivative(self, x):\n",
        "    return (np.sign(x)+1) / 2\n",
        "\n",
        "class SoftPlus(Activation):\n",
        "  def __call__(self, x):\n",
        "    return np.log(1 + np.exp(x))\n",
        "  def derivative(self, x):\n",
        "    return sigmoid(x)\n",
        "\n",
        "class Softmax(Activation):\n",
        "  def __call__(self, x):\n",
        "    return softmax(x)\n",
        "  def derivative(self, x):\n",
        "    return 1\n",
        "\n",
        "class Loss():\n",
        "  def __call__(self, actual, pred):\n",
        "    pass\n",
        "  def derivative(self, actual, pred):\n",
        "    pass\n",
        "\n",
        "class MeanSquaredError(Loss):\n",
        "  def __call__(self, actual, pred):\n",
        "    return (0.5 * (pred - actual)) ** 2\n",
        "  def derivative(self, actual, pred):\n",
        "    return (pred - actual) \n",
        "\n",
        "class MeanAbsoluteError(Loss):\n",
        "  def __call__(self, actual, pred):\n",
        "    return (pred - actual)\n",
        "  def derivative(self, actual, pred):\n",
        "    return np.sign(self(actual, pred))\n",
        "\n",
        "class SoftmaxCrossEntropy(Loss):\n",
        "  def __call__(self, actual, pred):\n",
        "    pred = softmax(pred)\n",
        "    return np.nan_to_num(-actual * np.log(pred) - (1-actual) * np.log(1-pred))\n",
        "  def derivative(self, actual, pred):\n",
        "    pred = softmax(pred)\n",
        "    return np.nan_to_num(pred - actual)\n",
        "\n",
        "class CrossEntropy(Loss):\n",
        "  def __call__(self, actual, pred):\n",
        "    return np.nan_to_num(-actual * np.log(pred) - (1-actual) * np.log(1-pred))\n",
        "  def derivative(self, actual, pred):\n",
        "    return np.nan_to_num((-actual / (pred + 1e-8)) + ((1-actual) / ((1-pred) + 1e-8)))\n",
        "\n",
        "class Layer:\n",
        "  def __init__(self, last_layer):\n",
        "    self.last_layer = last_layer\n",
        "    return None\n",
        "  def forwardProp(self):\n",
        "    return None\n",
        "  def updateParams(self, learning_rate):\n",
        "    return None\n",
        "  def backProp(self, errors):\n",
        "    return errors\n",
        "  def reverseProp(self, errors):\n",
        "    return errors\n",
        "\n",
        "\n",
        "global idd\n",
        "idd = 0\n",
        "\n",
        "class BatchNormalization:\n",
        "  def __init__(self, last_layer, gamma=1, beta=0, eps=1e-5):\n",
        "    global idd\n",
        "    self.id = idd\n",
        "    idd += 1\n",
        "    self.gamma = gamma\n",
        "    self.beta = beta\n",
        "    self.eps = eps\n",
        "    self.last_layer = last_layer\n",
        "    self.size = last_layer.size\n",
        "\n",
        "  def forwardProp(self):\n",
        "    x = self.last_layer.forwardProp()\n",
        "    N, D = x.shape\n",
        "    sample_mean = x.mean(axis=0)\n",
        "    sample_var = x.var(axis=0)\n",
        "    self.std = np.sqrt(sample_var + self.eps)\n",
        "    self.x_centered = x - sample_mean\n",
        "    self.x_norm = self.x_centered / self.std\n",
        "    out = self.gamma * self.x_norm + self.beta\n",
        "    self.outputs = out\n",
        "    return out\n",
        "\n",
        "  def updateParams(self, learning_rate):\n",
        "    self.gamma -= self.dgamma\n",
        "    self.beta -= self.dbeta\n",
        "    pass\n",
        "\n",
        "  def backProp(self, errors):\n",
        "    N = errors.shape[0]\n",
        "    dgamma = (errors * self.x_norm).sum(axis=0)\n",
        "    dbeta = errors.sum(axis=0)\n",
        "    \n",
        "    dx_norm = errors * self.gamma\n",
        "    # dx_centered = dx_norm / self.std\n",
        "    # dmean = -(dx_centered.sum(axis=0) + 2/N * self.x_centered.sum(axis=0))\n",
        "    # dstd = (dx_norm * self.x_centered * -self.std**(-2)).sum(axis=0)\n",
        "    # dvar = dstd / 2 / self.std\n",
        "    # dx = dx_centered + (dmean + dvar * 2 * self.x_centered) / N\n",
        "\n",
        "\n",
        "    dx = 1/N / self.std * (N * dx_norm - \n",
        "                      dx_norm.sum(axis=0) - \n",
        "                      self.x_norm * (dx_norm * self.x_norm).sum(axis=0))    \n",
        "\n",
        "    self.dgamma = dgamma\n",
        "    self.dbeta = dbeta\n",
        "    return self.last_layer.backProp(dx)\n",
        "    \n",
        "  def resetAll(self):\n",
        "    self.dgamma = 0\n",
        "    self.dbeta = 0\n",
        "\n",
        "class Dense(Layer):\n",
        "  def __init__(self, size, last_layer, activation=Relu):\n",
        "    global idd\n",
        "    self.id = idd\n",
        "    idd += 1\n",
        "    #print(self.id)\n",
        "    self.size = size\n",
        "    self.activation = activation\n",
        "    self.weights = np.random.normal(0, scale=(1/float(math.sqrt(last_layer.size))), size=(last_layer.size, size)).astype(np.float64)\n",
        "    self.outputs = None\n",
        "    self.errors = None\n",
        "    self.sums = None\n",
        "    self.last_layer = last_layer\n",
        "    self.freeze = False\n",
        "\n",
        "  def forwardProp(self):\n",
        "    self.sums = np.dot(self.last_layer.forwardProp(), self.weights)\n",
        "    self.outputs = self.activation(self.sums)\n",
        "    return self.outputs\n",
        "\n",
        "  def backProp(self, errors):\n",
        "    self.errors = errors * self.activation.derivative(self.sums)\n",
        "    backErrors = np.dot(self.errors, self.weights.T)\n",
        "    return self.last_layer.backProp(backErrors)\n",
        "\n",
        "  def reverseProp(self, errors):\n",
        "    inv_weight = np.linalg.pinv(self.weights)\n",
        "    backErrors = np.nan_to_num(np.dot(inverse_functions[self.activation](errors), inv_weight.T))\n",
        "    return self.last_layer.reverseProp(backErrors)\n",
        "\n",
        "  def updateParams(self, learning_rate):\n",
        "    # Firstly update params of last layer\n",
        "    if self.errors is None or self.freeze == True:\n",
        "      return\n",
        "    self.last_layer.updateParams(learning_rate)\n",
        "    delta = np.dot(self.last_layer.outputs.T, self.errors) \n",
        "    # print(delta.shape)\n",
        "    self.weights -= learning_rate*delta\n",
        "    self.sums = None\n",
        "    self.errors = None\n",
        "\n",
        "  def resetAll(self):\n",
        "    self.last_layer.resetAll()\n",
        "    self.sums = None\n",
        "    self.errors = None\n",
        "    self.outputs = None\n",
        "    return None\n",
        "\n",
        "class Conv1D(Layer):\n",
        "  def __init__(self, filters, kernel_size, last_layer, activation=Relu):\n",
        "    global idd\n",
        "    self.id = idd\n",
        "    idd += 1\n",
        "    #print(self.id)\n",
        "    self.kernel_size = kernel_size\n",
        "    self.filters = filters\n",
        "    self.size = size\n",
        "    self.activation = activation\n",
        "    self.weights = np.random.normal(0, scale=(1/float(math.sqrt(last_layer.size))), size=(size, last_layer.size))\n",
        "    self.outputs = None#np.zeros(size)\n",
        "    self.errors = None#np.zeros(size)\n",
        "    self.sums = None#np.zeros(size)\n",
        "    self.last_layer = last_layer\n",
        "  def forwardProp(self):\n",
        "    self.outputs = self.activation(self.sums)\n",
        "    return self.outputs\n",
        "  def backProp(self, errors):\n",
        "    backErrors = errors\n",
        "    return self.last_layer.backProp(backErrors)\n",
        "  def updateParams(self, learning_rate):\n",
        "    return None\n",
        "  def resetAll(self):\n",
        "    self.last_layer.resetAll()\n",
        "    self.sums = None\n",
        "    self.errors = None\n",
        "    self.outputs = None\n",
        "    return None\n",
        "  \n",
        "class Input(Layer):\n",
        "  def __init__(self, size, activation=Linear):\n",
        "    global idd\n",
        "    self.id = idd\n",
        "    idd += 1\n",
        "    self.size = size\n",
        "    self.activation = activation\n",
        "    self.outputs = np.zeros(size).astype(np.float64)\n",
        "    self.sums = np.zeros(size).astype(np.float64)\n",
        "    self.errors = None\n",
        "  def forwardProp(self):\n",
        "    #print(\"Input \", self.id)\n",
        "    self.outputs = self.activation(self.sums)\n",
        "    return self.outputs\n",
        "  def backProp(self, errors):\n",
        "    self.errors = errors * self.activation.derivative(self.sums)\n",
        "    return self.errors\n",
        "  def reverseProp(self, errors):\n",
        "    return errors\n",
        "  def updateParams(self, lr):\n",
        "    return None\n",
        "  def resetAll(self):\n",
        "    self.sums = None\n",
        "    self.outputs = None\n",
        "    return None\n",
        "    \n",
        "class NeuralNet:\n",
        "  def __init__(self,  inputs, outputs, learning_rate = 0.01, loss='crossentropy', gamma=1, delta=2):\n",
        "    global idd\n",
        "    idd = 0\n",
        "    self.learning_rate = learning_rate\n",
        "    self.Input = inputs\n",
        "    self.Output = outputs\n",
        "    self.loss = loss\n",
        "    self.gamma = gamma\n",
        "    self.delta = delta\n",
        "  def forward(self, inputs):\n",
        "    self.Input.sums = inputs\n",
        "    return self.Output.forwardProp()\n",
        "  def backward(self, errors):\n",
        "    #self.Output.errors = errors\n",
        "    return self.Output.backProp(errors) #* self.Output.activation.derivative(self.Output.Sum)\n",
        "  def reverse(self, errors):\n",
        "    #self.Output.errors = errors\n",
        "    return self.Output.reverseProp(errors)\n",
        "  def updateParams(self):\n",
        "    self.Output.updateParams(self.learning_rate)\n",
        "  \n",
        "  def fit(self, X, Y, epoch=10, batch_size=10, verbose=True, validation_set = None, accuracy_metric=antiCategorical):\n",
        "    X = X.reshape(tuple([-1, batch_size] + list(X.shape[1:])))\n",
        "    Y = Y.reshape(tuple([-1, batch_size] + list(Y.shape[1:])))\n",
        "    print(X.shape, Y.shape)\n",
        "    iters = X.shape[0]\n",
        "    for j in range(epoch):\n",
        "      TotalLoss = 0\n",
        "      for i in range(0, iters):\n",
        "        self.resetAll()\n",
        "        # print(X[i].shape)\n",
        "        pred = self.forward(X[i].astype(np.float64))\n",
        "        # print(pred)\n",
        "        loss = self.loss.derivative(Y[i].astype(np.float64), pred.astype(np.float64))\n",
        "        TotalLoss += sum(abs(k) for k in loss)\n",
        "        self.backward(loss)\n",
        "        self.updateParams()\n",
        "      if verbose:\n",
        "        print(\"Epoch\",j, \"Loss\", TotalLoss/iters)\n",
        "      self.learning_rate *= self.gamma\n",
        "      self.gamma *= self.delta\n",
        "      if validation_set is not None:\n",
        "        tx, ty = validation_set\n",
        "        pred = self.predict(tx)\n",
        "        loss = self.loss.derivative(ty, pred)\n",
        "        print(\"Validation Score:\", sklearn.metrics.accuracy_score(accuracy_metric(ty), accuracy_metric(pred))*100, \"\\tLoss:\", np.sum([sum(abs(k) for k in ll) for ll in loss])/len(ty))\n",
        "    return None\n",
        "  \n",
        "  def test(self, tx, ty, accuracy_metric=antiCategorical):\n",
        "      pred = self.predict(tx)\n",
        "      loss = self.loss.derivative(ty, pred)\n",
        "      print(\"Testing Score:\", sklearn.metrics.accuracy_score(accuracy_metric(ty), accuracy_metric(pred))*100, \"\\tLoss:\", np.sum([sum(abs(k) for k in ll) for ll in loss])/len(ty))\n",
        "\n",
        "\n",
        "  def reversePredict(self, Y):\n",
        "    iters = Y.shape[0]\n",
        "    X = list()\n",
        "    for i in range(iters):\n",
        "      self.resetAll()\n",
        "      pred = self.reverse(Y[i].astype(np.float64))\n",
        "      #print(i, pred)\n",
        "      X.append(pred)\n",
        "    return np.array(X)\n",
        "\n",
        "  def resetAll(self):\n",
        "    self.Output.resetAll()\n",
        "  \n",
        "  def __call__(self, X):\n",
        "    return self.predict(X)\n",
        "\n",
        "  def predict(self, X):\n",
        "    pred = self.forward(X.astype(np.float64))\n",
        "    # self.resetAll()\n",
        "    return pred\n",
        "  def getLoss(self, pred, exp):\n",
        "    return np.nan_to_num(loss_derivatives[self.loss][self.Output.activation](exp, pred))"
      ],
      "execution_count": null,
      "outputs": []
    },
    {
      "cell_type": "code",
      "metadata": {
        "id": "xL-NyTPa9wdn",
        "outputId": "b61df59a-60cc-47bb-db9a-836db8a3ee2f",
        "colab": {
          "base_uri": "https://localhost:8080/",
          "height": 68
        }
      },
      "source": [
        "(x_train, y_train), (x_test, y_test) = tf.keras.datasets.mnist.load_data()\n",
        "\n",
        "# (x_train, y_train), (x_test, y_test) = tf.keras.datasets.fashion_mnist.load_data()\n",
        "cy_train = np.array(to_categorical(y_train))\n",
        "cy_test = np.array(to_categorical(y_test))\n",
        "\n",
        "cx_train, cx_test = np.array(x_train.reshape(-1, 784)/255.), np.array(x_test.reshape(-1, 784)/255.)\n",
        "cx_train.shape"
      ],
      "execution_count": null,
      "outputs": [
        {
          "output_type": "stream",
          "text": [
            "Downloading data from https://storage.googleapis.com/tensorflow/tf-keras-datasets/mnist.npz\n",
            "11493376/11490434 [==============================] - 0s 0us/step\n"
          ],
          "name": "stdout"
        },
        {
          "output_type": "execute_result",
          "data": {
            "text/plain": [
              "(60000, 784)"
            ]
          },
          "metadata": {
            "tags": []
          },
          "execution_count": 5
        }
      ]
    },
    {
      "cell_type": "code",
      "metadata": {
        "id": "s03Iqgz7mgrP",
        "outputId": "4506d56c-8d8c-46ed-b82f-d0bb740e22eb",
        "colab": {
          "base_uri": "https://localhost:8080/",
          "height": 544
        }
      },
      "source": [
        "inputs = Input(784, LeakyRelu())\n",
        "x = Dense(100, inputs, LeakyRelu())\n",
        "x = BatchNormalization(x)\n",
        "x = Dense(50, x, LeakyRelu())\n",
        "x = BatchNormalization(x)\n",
        "outputs = Dense(10, x, Sigmoid())\n",
        "\n",
        "test = NeuralNet(inputs, outputs, learning_rate = 0.01, loss=MeanSquaredError(), delta=0.95, gamma=1)\n",
        "test.fit(cx_train, cy_train, batch_size=10, epoch=10, validation_set=(cx_test, cy_test))"
      ],
      "execution_count": null,
      "outputs": [
        {
          "output_type": "stream",
          "text": [
            "(6000, 10, 784) (6000, 10, 10)\n",
            "Epoch 0 Loss [0.74676092 0.70794402 1.08777574 1.0598988  1.14294639 1.14708512\n",
            " 0.88173004 0.90120414 1.15355366 1.20805714]\n",
            "Validation Score: 67.02 \tLoss: 0.8857429274697666\n",
            "Epoch 1 Loss [0.64208616 0.6052423  0.95959072 0.98038288 1.07119448 1.06132734\n",
            " 0.78075408 0.79759192 1.09425636 1.15174095]\n",
            "Validation Score: 67.36 \tLoss: 0.8649890802456124\n",
            "Epoch 2 Loss [0.62909634 0.5907622  0.95231223 0.98513885 1.07073552 1.06479916\n",
            " 0.7753565  0.79070116 1.09434628 1.1520661 ]\n",
            "Validation Score: 67.57 \tLoss: 0.8638068174282795\n",
            "Epoch 3 Loss [0.62449113 0.58428625 0.95229097 0.98819208 1.07135848 1.06702534\n",
            " 0.77408878 0.78949677 1.09752807 1.15459746]\n",
            "Validation Score: 67.82000000000001 \tLoss: 0.8639189542720973\n",
            "Epoch 4 Loss [0.62243391 0.58065508 0.95340478 0.99200736 1.07367703 1.07187527\n",
            " 0.77300446 0.78949573 1.10250122 1.15753719]\n",
            "Validation Score: 68.28 \tLoss: 0.8646451301905453\n",
            "Epoch 5 Loss [0.62088261 0.57782743 0.95623166 0.99663181 1.07775876 1.07892239\n",
            " 0.77203678 0.79040314 1.10820524 1.16165946]\n",
            "Validation Score: 68.87 \tLoss: 0.864388279514953\n",
            "Epoch 6 Loss [0.61927653 0.5748274  0.96030832 1.0014247  1.08249655 1.08598273\n",
            " 0.77074295 0.7914261  1.11390586 1.16720619]\n",
            "Validation Score: 69.3 \tLoss: 0.8634791655392202\n",
            "Epoch 7 Loss [0.6172056  0.5712208  0.9644892  1.0060712  1.08710015 1.09271386\n",
            " 0.76890093 0.7921736  1.11937321 1.1727491 ]\n",
            "Validation Score: 70.00999999999999 \tLoss: 0.8623712633100767\n",
            "Epoch 8 Loss [0.61445954 0.56695904 0.96798535 1.01016918 1.09122122 1.09894919\n",
            " 0.76637537 0.79240179 1.12424286 1.17765038]\n",
            "Validation Score: 70.47 \tLoss: 0.8612833942333671\n",
            "Epoch 9 Loss [0.61101441 0.56222467 0.97029495 1.01335255 1.09451439 1.10427135\n",
            " 0.76313144 0.79190818 1.12816519 1.18167034]\n",
            "Validation Score: 71.1 \tLoss: 0.8602297932728589\n"
          ],
          "name": "stdout"
        }
      ]
    },
    {
      "cell_type": "markdown",
      "metadata": {
        "id": "VzV0mS1JdTlJ"
      },
      "source": [
        "# GAN -->"
      ]
    },
    {
      "cell_type": "code",
      "metadata": {
        "id": "pfWB3N_AeAuz"
      },
      "source": [
        "def generator():\n",
        "  inputs = Input(256, LeakyRelu())\n",
        "  x = Dense(512, inputs, LeakyRelu())\n",
        "  # x = BatchNormalization(x)\n",
        "  x = Dense(1024, x, LeakyRelu())\n",
        "  # x = BatchNormalization(x)\n",
        "  outputs = Dense(784, x, Sigmoid())\n",
        "\n",
        "  model = NeuralNet(inputs, outputs, learning_rate = 0.005, loss=MeanSquaredError(), delta=0.98, gamma=1)\n",
        "  return model\n",
        "\n",
        "def descriminator():\n",
        "  inputs = Input(784, LeakyRelu())\n",
        "  x = Dense(512, inputs, LeakyRelu())\n",
        "  # x = BatchNormalization(x)\n",
        "  # x = Dense(256, x, LeakyRelu())\n",
        "  # x = BatchNormalization(x)\n",
        "  x = Dense(50, x, LeakyRelu())\n",
        "  # x = BatchNormalization(x)\n",
        "  desOut = Dense(1, x, Sigmoid())\n",
        "  clsOut = Dense(10, x, Sigmoid())\n",
        "\n",
        "  des = NeuralNet(inputs, desOut, learning_rate = 0.005, loss=MeanSquaredError(), delta=0.98, gamma=1)\n",
        "  cls = NeuralNet(inputs, clsOut, learning_rate = 0.01, loss=SoftmaxCrossEntropy(), delta=0.98, gamma=1)\n",
        "  return des, cls"
      ],
      "execution_count": null,
      "outputs": []
    },
    {
      "cell_type": "code",
      "metadata": {
        "id": "GUh4kLJydVTU"
      },
      "source": [
        "def trainGan(inputs, labels, cls, des, gen, epochs=10, batch_size=5, desSteps=1, genSteps=1, loss=MeanSquaredError(), clsLoss=SoftmaxCrossEntropy()):\n",
        "  realData = np.array(inputs).reshape(tuple([-1, batch_size] + list(inputs.shape[1:])))\n",
        "  clsData = np.array(inputs).reshape(tuple([-1, batch_size] + list(inputs.shape[1:])))\n",
        "  labels = labels.reshape(tuple([-1, batch_size] + list(labels.shape[1:])))\n",
        "  print(labels.shape)\n",
        "\n",
        "  def trainCls(realData, labels, cls, index, steps):\n",
        "    for i in range(index, steps+index):\n",
        "      try:\n",
        "        real = clsData[i]\n",
        "        label = labels[i]\n",
        "        # print(label.shape)\n",
        "      except:\n",
        "        return\n",
        "\n",
        "      pred = cls(real)\n",
        "      \n",
        "      clsloss = clsLoss.derivative(label.astype(np.float64), pred.astype(np.float64))\n",
        "\n",
        "      cls.backward(clsloss)\n",
        "      cls.updateParams()\n",
        "      cls.resetAll()\n",
        "\n",
        "  def trainDes(realData, des, gen, index, steps):\n",
        "    for i in range(index, steps+index):\n",
        "      try:\n",
        "        real = realData[i]\n",
        "      except:\n",
        "        return\n",
        "      noise = np.random.normal(size=[batch_size, gen.Input.size])\n",
        "      fake = gen(noise)\n",
        "      X = np.concatenate((fake, real), axis=0)\n",
        "      pred = des(X)\n",
        "      fake_output = pred[:batch_size]\n",
        "      real_output = pred[batch_size:]\n",
        "\n",
        "      fake_desloss = loss.derivative(np.zeros_like(fake_output).astype(np.float64), fake_output.astype(np.float64))\n",
        "      real_desloss = loss.derivative(np.ones_like(real_output).astype(np.float64), real_output.astype(np.float64))\n",
        "\n",
        "      desLoss = np.concatenate((fake_desloss, real_desloss), axis=0)\n",
        "      des.backward(desLoss)\n",
        "      des.updateParams()\n",
        "      des.resetAll()\n",
        "\n",
        "  def trainGen(des, gen, steps):\n",
        "    for i in range(steps):\n",
        "      noise = np.random.normal(size=[batch_size, gen.Input.size])\n",
        "      fake = gen(noise)\n",
        "      fake_output = des(fake)\n",
        "\n",
        "      desloss = loss.derivative(np.ones_like(fake_output).astype(np.float64), fake_output.astype(np.float64))\n",
        "\n",
        "      cls_output = cls(fake)\n",
        "      similarityLoss = (10 - len(np.unique(antiCategorical(cls_output)))) / 5\n",
        "      desloss += similarityLoss\n",
        "\n",
        "      grad = des.backward(desloss)\n",
        "      gen.backward(grad)\n",
        "      gen.updateParams()\n",
        "      gen.resetAll()\n",
        "      des.resetAll()\n",
        "      cls.resetAll()\n",
        "\n",
        "  print(realData.shape)\n",
        "  for epoch in range(epochs):\n",
        "    np.random.shuffle(realData)\n",
        "    for iter in range(len(realData)):\n",
        "      trainCls(realData, labels, cls, iter, desSteps)\n",
        "      trainDes(realData, des, gen, iter, desSteps)\n",
        "      trainGen(des, gen, genSteps)\n",
        "    \n",
        "    noise = np.random.normal(size=[batch_size, gen.Input.size])\n",
        "    real = realData[0]\n",
        "    fake = gen(noise)\n",
        "    cls_output = cls(fake)\n",
        "    similarityLoss = (10 - len(np.unique(antiCategorical(cls_output)))) / 5\n",
        "    X = np.concatenate((fake, real), axis=0)\n",
        "    pred = des(X)\n",
        "    fake_output = pred[:batch_size]\n",
        "    real_output = pred[batch_size:]\n",
        "    des.resetAll()\n",
        "    gen.resetAll()\n",
        "    print(\"Epoch \", epoch, \"SimilarityLoss\", similarityLoss, \"Fake=>\", fake_output, \"Real=>\", real_output)\n",
        "    cls.test(cx_test, cy_test)\n",
        "    for i in range(len(fake)):\n",
        "      plt.imshow(fake[i].reshape((28,28)))\n",
        "      plt.show()\n",
        "    # print(\"==>\", np.mean(desLoss), np.mean(genLoss))"
      ],
      "execution_count": null,
      "outputs": []
    },
    {
      "cell_type": "code",
      "metadata": {
        "id": "LEEMcjOhORaM"
      },
      "source": [
        "gen = generator()\n",
        "des, cls = descriminator()"
      ],
      "execution_count": null,
      "outputs": []
    },
    {
      "cell_type": "code",
      "metadata": {
        "id": "OZKsQZ8kOTZI",
        "outputId": "2d88a641-032a-4595-c404-e3fd7a9410ab",
        "colab": {
          "base_uri": "https://localhost:8080/",
          "height": 289
        }
      },
      "source": [
        "cls.fit(cx_train, cy_train, batch_size=10, epoch=5, validation_set=(cx_test, cy_test))"
      ],
      "execution_count": null,
      "outputs": [
        {
          "output_type": "stream",
          "text": [
            "(6000, 10, 784) (6000, 10, 10)\n",
            "Epoch 0 Loss [1.53575838 1.62915209 1.56915572 1.60164692 1.56314882 1.529399\n",
            " 1.54484685 1.60806567 1.58401246 1.61429446]\n",
            "Validation Score: 93.47999999999999 \tLoss: 1.558807240829851\n",
            "Epoch 1 Loss [1.53069911 1.62392677 1.54833966 1.57929373 1.53799375 1.49116592\n",
            " 1.53492082 1.58230086 1.54433428 1.56265217]\n",
            "Validation Score: 95.44 \tLoss: 1.551189778085763\n",
            "Epoch 2 Loss [1.52986818 1.62381031 1.54387999 1.57031288 1.53268053 1.48414933\n",
            " 1.53305581 1.57828028 1.53689341 1.5539813 ]\n",
            "Validation Score: 96.56 \tLoss: 1.5474626195240047\n",
            "Epoch 3 Loss [1.52930138 1.62369804 1.54116286 1.56641478 1.52908959 1.48045581\n",
            " 1.53187052 1.575688   1.53260683 1.54845206]\n",
            "Validation Score: 96.98 \tLoss: 1.5461580358037805\n",
            "Epoch 4 Loss [1.52902712 1.62372345 1.53990327 1.56313662 1.52679588 1.47834328\n",
            " 1.53123006 1.57409984 1.5300715  1.54448514]\n",
            "Validation Score: 97.18 \tLoss: 1.5452720859718099\n"
          ],
          "name": "stdout"
        }
      ]
    },
    {
      "cell_type": "code",
      "metadata": {
        "id": "Zs2zEEW8O1TQ",
        "outputId": "953e1a56-f0c8-40fc-e3b1-c80f3e96e73f",
        "colab": {
          "base_uri": "https://localhost:8080/",
          "height": 1000
        }
      },
      "source": [
        "trainGan(cx_train, cy_train, cls=cls, des=des, gen=gen, epochs=100, batch_size=10, desSteps=2, genSteps=1, loss=CrossEntropy())"
      ],
      "execution_count": null,
      "outputs": [
        {
          "output_type": "stream",
          "text": [
            "(6000, 10, 10)\n",
            "(6000, 10, 784)\n",
            "Epoch  0 SimilarityLoss 1.6 Fake=> [[0.50034762]\n",
            " [0.49996202]\n",
            " [0.50013971]\n",
            " [0.50018575]\n",
            " [0.50011722]\n",
            " [0.50025551]\n",
            " [0.50027682]\n",
            " [0.50069347]\n",
            " [0.49998625]\n",
            " [0.50015222]] Real=> [[1.        ]\n",
            " [1.        ]\n",
            " [0.99999998]\n",
            " [1.        ]\n",
            " [1.        ]\n",
            " [0.9999996 ]\n",
            " [1.        ]\n",
            " [1.        ]\n",
            " [0.99999635]\n",
            " [1.        ]]\n",
            "Testing Score: 97.11 \tLoss: 1.5455173881344029\n"
          ],
          "name": "stdout"
        },
        {
          "output_type": "display_data",
          "data": {
            "image/png": "[encoded data removed]",
            "text/plain": [
              "<Figure size 432x288 with 1 Axes>"
            ]
          },
          "metadata": {
            "tags": [],
            "needs_background": "light"
          }
        },
        {
          "output_type": "display_data",
          "data": {
            "image/png": "[encoded data removed]",
            "text/plain": [
              "<Figure size 432x288 with 1 Axes>"
            ]
          },
          "metadata": {
            "tags": [],
            "needs_background": "light"
          }
        },
        {
          "output_type": "display_data",
          "data": {
            "image/png": "[encoded data removed]",
            "text/plain": [
              "<Figure size 432x288 with 1 Axes>"
            ]
          },
          "metadata": {
            "tags": [],
            "needs_background": "light"
          }
        },
        {
          "output_type": "display_data",
          "data": {
            "image/png": "[encoded data removed]",
            "text/plain": [
              "<Figure size 432x288 with 1 Axes>"
            ]
          },
          "metadata": {
            "tags": [],
            "needs_background": "light"
          }
        },
        {
          "output_type": "display_data",
          "data": {
            "image/png": "[encoded data removed]",
            "text/plain": [
              "<Figure size 432x288 with 1 Axes>"
            ]
          },
          "metadata": {
            "tags": [],
            "needs_background": "light"
          }
        },
        {
          "output_type": "display_data",
          "data": {
            "image/png": "[encoded data removed]",
            "text/plain": [
              "<Figure size 432x288 with 1 Axes>"
            ]
          },
          "metadata": {
            "tags": [],
            "needs_background": "light"
          }
        },
        {
          "output_type": "display_data",
          "data": {
            "image/png": "[encoded data removed]",
            "text/plain": [
              "<Figure size 432x288 with 1 Axes>"
            ]
          },
          "metadata": {
            "tags": [],
            "needs_background": "light"
          }
        },
        {
          "output_type": "display_data",
          "data": {
            "image/png": "[encoded data removed]",
            "text/plain": [
              "<Figure size 432x288 with 1 Axes>"
            ]
          },
          "metadata": {
            "tags": [],
            "needs_background": "light"
          }
        },
        {
          "output_type": "display_data",
          "data": {
            "image/png": "[encoded data removed]",
            "text/plain": [
              "<Figure size 432x288 with 1 Axes>"
            ]
          },
          "metadata": {
            "tags": [],
            "needs_background": "light"
          }
        },
        {
          "output_type": "display_data",
          "data": {
            "image/png": "[encoded data removed]",
            "text/plain": [
              "<Figure size 432x288 with 1 Axes>"
            ]
          },
          "metadata": {
            "tags": [],
            "needs_background": "light"
          }
        },
        {
          "output_type": "stream",
          "text": [
            "Epoch  1 SimilarityLoss 1.8 Fake=> [[0.49995038]\n",
            " [0.49989116]\n",
            " [0.50000922]\n",
            " [0.50004145]\n",
            " [0.50000667]\n",
            " [0.49996465]\n",
            " [0.49995446]\n",
            " [0.50003307]\n",
            " [0.49999067]\n",
            " [0.50000948]] Real=> [[0.99999995]\n",
            " [1.        ]\n",
            " [1.        ]\n",
            " [1.        ]\n",
            " [1.        ]\n",
            " [1.        ]\n",
            " [1.        ]\n",
            " [1.        ]\n",
            " [1.        ]\n",
            " [1.        ]]\n",
            "Testing Score: 97.46000000000001 \tLoss: 1.5445501778576007\n"
          ],
          "name": "stdout"
        },
        {
          "output_type": "display_data",
          "data": {
            "image/png": "[encoded data removed]",
            "text/plain": [
              "<Figure size 432x288 with 1 Axes>"
            ]
          },
          "metadata": {
            "tags": [],
            "needs_background": "light"
          }
        },
        {
          "output_type": "display_data",
          "data": {
            "image/png": "[encoded data removed]",
            "text/plain": [
              "<Figure size 432x288 with 1 Axes>"
            ]
          },
          "metadata": {
            "tags": [],
            "needs_background": "light"
          }
        },
        {
          "output_type": "display_data",
          "data": {
            "image/png": "[encoded data removed]",
            "text/plain": [
              "<Figure size 432x288 with 1 Axes>"
            ]
          },
          "metadata": {
            "tags": [],
            "needs_background": "light"
          }
        },
        {
          "output_type": "display_data",
          "data": {
            "image/png": "[encoded data removed]",
            "text/plain": [
              "<Figure size 432x288 with 1 Axes>"
            ]
          },
          "metadata": {
            "tags": [],
            "needs_background": "light"
          }
        },
        {
          "output_type": "display_data",
          "data": {
            "image/png": "[encoded data removed]",
            "text/plain": [
              "<Figure size 432x288 with 1 Axes>"
            ]
          },
          "metadata": {
            "tags": [],
            "needs_background": "light"
          }
        },
        {
          "output_type": "display_data",
          "data": {
            "image/png": "[encoded data removed]",
            "text/plain": [
              "<Figure size 432x288 with 1 Axes>"
            ]
          },
          "metadata": {
            "tags": [],
            "needs_background": "light"
          }
        },
        {
          "output_type": "display_data",
          "data": {
            "image/png": "[encoded data removed]",
            "text/plain": [
              "<Figure size 432x288 with 1 Axes>"
            ]
          },
          "metadata": {
            "tags": [],
            "needs_background": "light"
          }
        },
        {
          "output_type": "display_data",
          "data": {
            "image/png": "[encoded data removed]",
            "text/plain": [
              "<Figure size 432x288 with 1 Axes>"
            ]
          },
          "metadata": {
            "tags": [],
            "needs_background": "light"
          }
        },
        {
          "output_type": "display_data",
          "data": {
            "image/png": "[encoded data removed]",
            "text/plain": [
              "<Figure size 432x288 with 1 Axes>"
            ]
          },
          "metadata": {
            "tags": [],
            "needs_background": "light"
          }
        },
        {
          "output_type": "display_data",
          "data": {
            "image/png": "[encoded data removed]",
            "text/plain": [
              "<Figure size 432x288 with 1 Axes>"
            ]
          },
          "metadata": {
            "tags": [],
            "needs_background": "light"
          }
        },
        {
          "output_type": "stream",
          "text": [
            "Epoch  2 SimilarityLoss 1.8 Fake=> [[0.49999712]\n",
            " [0.49995099]\n",
            " [0.4999998 ]\n",
            " [0.49995937]\n",
            " [0.49996312]\n",
            " [0.50000332]\n",
            " [0.49999265]\n",
            " [0.49981506]\n",
            " [0.49999468]\n",
            " [0.49999751]] Real=> [[1.        ]\n",
            " [1.        ]\n",
            " [0.99999843]\n",
            " [1.        ]\n",
            " [0.99997018]\n",
            " [1.        ]\n",
            " [1.        ]\n",
            " [1.        ]\n",
            " [1.        ]\n",
            " [1.        ]]\n",
            "Testing Score: 97.59 \tLoss: 1.543998122369391\n"
          ],
          "name": "stdout"
        },
        {
          "output_type": "display_data",
          "data": {
            "image/png": "[encoded data removed]",
            "text/plain": [
              "<Figure size 432x288 with 1 Axes>"
            ]
          },
          "metadata": {
            "tags": [],
            "needs_background": "light"
          }
        },
        {
          "output_type": "display_data",
          "data": {
            "image/png": "[encoded data removed]",
            "text/plain": [
              "<Figure size 432x288 with 1 Axes>"
            ]
          },
          "metadata": {
            "tags": [],
            "needs_background": "light"
          }
        },
        {
          "output_type": "display_data",
          "data": {
            "image/png": "[encoded data removed]",
            "text/plain": [
              "<Figure size 432x288 with 1 Axes>"
            ]
          },
          "metadata": {
            "tags": [],
            "needs_background": "light"
          }
        },
        {
          "output_type": "display_data",
          "data": {
            "image/png": "[encoded data removed]",
            "text/plain": [
              "<Figure size 432x288 with 1 Axes>"
            ]
          },
          "metadata": {
            "tags": [],
            "needs_background": "light"
          }
        },
        {
          "output_type": "display_data",
          "data": {
            "image/png": "[encoded data removed]",
            "text/plain": [
              "<Figure size 432x288 with 1 Axes>"
            ]
          },
          "metadata": {
            "tags": [],
            "needs_background": "light"
          }
        },
        {
          "output_type": "display_data",
          "data": {
            "image/png": "[encoded data removed]",
            "text/plain": [
              "<Figure size 432x288 with 1 Axes>"
            ]
          },
          "metadata": {
            "tags": [],
            "needs_background": "light"
          }
        },
        {
          "output_type": "display_data",
          "data": {
            "image/png": "[encoded data removed]",
            "text/plain": [
              "<Figure size 432x288 with 1 Axes>"
            ]
          },
          "metadata": {
            "tags": [],
            "needs_background": "light"
          }
        },
        {
          "output_type": "display_data",
          "data": {
            "image/png": "[encoded data removed]",
            "text/plain": [
              "<Figure size 432x288 with 1 Axes>"
            ]
          },
          "metadata": {
            "tags": [],
            "needs_background": "light"
          }
        },
        {
          "output_type": "display_data",
          "data": {
            "image/png": "[encoded data removed]",
            "text/plain": [
              "<Figure size 432x288 with 1 Axes>"
            ]
          },
          "metadata": {
            "tags": [],
            "needs_background": "light"
          }
        },
        {
          "output_type": "display_data",
          "data": {
            "image/png": "[encoded data removed]",
            "text/plain": [
              "<Figure size 432x288 with 1 Axes>"
            ]
          },
          "metadata": {
            "tags": [],
            "needs_background": "light"
          }
        },
        {
          "output_type": "stream",
          "text": [
            "Epoch  3 SimilarityLoss 1.8 Fake=> [[0.49987499]\n",
            " [0.4999928 ]\n",
            " [0.49998595]\n",
            " [0.49992848]\n",
            " [0.49912927]\n",
            " [0.49990554]\n",
            " [0.49999505]\n",
            " [0.49998686]\n",
            " [0.49993688]\n",
            " [0.49982353]] Real=> [[0.99999972]\n",
            " [1.        ]\n",
            " [0.99999999]\n",
            " [1.        ]\n",
            " [1.        ]\n",
            " [1.        ]\n",
            " [1.        ]\n",
            " [1.        ]\n",
            " [1.        ]\n",
            " [1.        ]]\n",
            "Testing Score: 97.84 \tLoss: 1.5436451282942718\n"
          ],
          "name": "stdout"
        },
        {
          "output_type": "display_data",
          "data": {
            "image/png": "[encoded data removed]",
            "text/plain": [
              "<Figure size 432x288 with 1 Axes>"
            ]
          },
          "metadata": {
            "tags": [],
            "needs_background": "light"
          }
        },
        {
          "output_type": "display_data",
          "data": {
            "image/png": "[encoded data removed]",
            "text/plain": [
              "<Figure size 432x288 with 1 Axes>"
            ]
          },
          "metadata": {
            "tags": [],
            "needs_background": "light"
          }
        },
        {
          "output_type": "display_data",
          "data": {
            "image/png": "[encoded data removed]",
            "text/plain": [
              "<Figure size 432x288 with 1 Axes>"
            ]
          },
          "metadata": {
            "tags": [],
            "needs_background": "light"
          }
        },
        {
          "output_type": "display_data",
          "data": {
            "image/png": "[encoded data removed]",
            "text/plain": [
              "<Figure size 432x288 with 1 Axes>"
            ]
          },
          "metadata": {
            "tags": [],
            "needs_background": "light"
          }
        },
        {
          "output_type": "display_data",
          "data": {
            "image/png": "[encoded data removed]",
            "text/plain": [
              "<Figure size 432x288 with 1 Axes>"
            ]
          },
          "metadata": {
            "tags": [],
            "needs_background": "light"
          }
        },
        {
          "output_type": "display_data",
          "data": {
            "image/png": "[encoded data removed]",
            "text/plain": [
              "<Figure size 432x288 with 1 Axes>"
            ]
          },
          "metadata": {
            "tags": [],
            "needs_background": "light"
          }
        },
        {
          "output_type": "display_data",
          "data": {
            "image/png": "[encoded data removed]",
            "text/plain": [
              "<Figure size 432x288 with 1 Axes>"
            ]
          },
          "metadata": {
            "tags": [],
            "needs_background": "light"
          }
        },
        {
          "output_type": "display_data",
          "data": {
            "image/png": "[encoded data removed]",
            "text/plain": [
              "<Figure size 432x288 with 1 Axes>"
            ]
          },
          "metadata": {
            "tags": [],
            "needs_background": "light"
          }
        },
        {
          "output_type": "display_data",
          "data": {
            "image/png": "[encoded data removed]",
            "text/plain": [
              "<Figure size 432x288 with 1 Axes>"
            ]
          },
          "metadata": {
            "tags": [],
            "needs_background": "light"
          }
        },
        {
          "output_type": "display_data",
          "data": {
            "image/png": "[encoded data removed]",
            "text/plain": [
              "<Figure size 432x288 with 1 Axes>"
            ]
          },
          "metadata": {
            "tags": [],
            "needs_background": "light"
          }
        }
      ]
    },
    {
      "cell_type": "code",
      "metadata": {
        "id": "qFww7Jpomi9J"
      },
      "source": [
        "def trainGan(realData, epochs=10, batch_size=5, loss=MeanSquaredError()):\n",
        "  realData = realData.reshape(tuple([-1, batch_size] + list(realData.shape[1:])))\n",
        "  print(realData.shape)\n",
        "  for epoch in range(epochs):\n",
        "    np.random.shuffle(realData)\n",
        "    for iter in range(len(realData)):\n",
        "      noise = np.random.normal(size=[batch_size, 100])\n",
        "      fake = gen(noise)\n",
        "      real = realData[iter]\n",
        "      X = np.concatenate((fake, real), axis=0)\n",
        "\n",
        "      pred = des(X)\n",
        "\n",
        "      fake_output = pred[:batch_size]\n",
        "      real_output = pred[batch_size:]\n",
        "      \n",
        "      fake_desloss = loss.derivative(np.zeros_like(fake_output).astype(np.float64), fake_output.astype(np.float64))\n",
        "      real_desloss = loss.derivative(np.ones_like(real_output).astype(np.float64), real_output.astype(np.float64))\n",
        "      \n",
        "      # print(\"=>\", fake_desloss, real_desloss)\n",
        "\n",
        "      genLoss = loss.derivative(np.ones_like(fake_output).astype(np.float64), fake_output.astype(np.float64))\n",
        "\n",
        "      genLoss = des.backward(np.concatenate((genLoss, genLoss), axis=0))[:batch_size]\n",
        "      gen.backward(genLoss)\n",
        "      gen.updateParams()\n",
        "\n",
        "      desLoss = np.concatenate((fake_desloss, real_desloss), axis=0)\n",
        "      des.backward(desLoss)\n",
        "      des.updateParams()\n",
        "\n",
        "      des.resetAll()\n",
        "      gen.resetAll()\n",
        "      \n",
        "    print(\"Epoch \", epoch, \"Fake=>\", fake_output, \"Real=>\", real_output)\n",
        "    for i in range(len(fake)):\n",
        "      plt.imshow(fake[i].reshape((28,28)))\n",
        "      plt.show()\n",
        "    # print(\"==>\", np.mean(desLoss), np.mean(genLoss))"
      ],
      "execution_count": null,
      "outputs": []
    },
    {
      "cell_type": "code",
      "metadata": {
        "id": "FeWNMIsUwl2I"
      },
      "source": [
        "gen = generator()\n",
        "des = descriminator()\n",
        "trainGan(cx_train, epochs=100, batch_size=20)"
      ],
      "execution_count": null,
      "outputs": []
    }
  ]
}